{
 "cells": [
  {
   "cell_type": "code",
   "execution_count": 1,
   "metadata": {},
   "outputs": [],
   "source": [
    "import pandas as pd"
   ]
  },
  {
   "cell_type": "code",
   "execution_count": 2,
   "metadata": {},
   "outputs": [
    {
     "data": {
      "text/html": [
       "<div>\n",
       "<style scoped>\n",
       "    .dataframe tbody tr th:only-of-type {\n",
       "        vertical-align: middle;\n",
       "    }\n",
       "\n",
       "    .dataframe tbody tr th {\n",
       "        vertical-align: top;\n",
       "    }\n",
       "\n",
       "    .dataframe thead th {\n",
       "        text-align: right;\n",
       "    }\n",
       "</style>\n",
       "<table border=\"1\" class=\"dataframe\">\n",
       "  <thead>\n",
       "    <tr style=\"text-align: right;\">\n",
       "      <th></th>\n",
       "      <th>NO_MUNICIPIO</th>\n",
       "      <th>ANO</th>\n",
       "      <th>GINI</th>\n",
       "    </tr>\n",
       "  </thead>\n",
       "  <tbody>\n",
       "    <tr>\n",
       "      <th>0</th>\n",
       "      <td>Ilhéus</td>\n",
       "      <td>1991</td>\n",
       "      <td>0,6413</td>\n",
       "    </tr>\n",
       "    <tr>\n",
       "      <th>2</th>\n",
       "      <td>Ilhéus</td>\n",
       "      <td>2000</td>\n",
       "      <td>0,6435</td>\n",
       "    </tr>\n",
       "    <tr>\n",
       "      <th>4</th>\n",
       "      <td>Ilhéus</td>\n",
       "      <td>2010</td>\n",
       "      <td>0,5875</td>\n",
       "    </tr>\n",
       "    <tr>\n",
       "      <th>1</th>\n",
       "      <td>Itabuna</td>\n",
       "      <td>1991</td>\n",
       "      <td>0,6979</td>\n",
       "    </tr>\n",
       "    <tr>\n",
       "      <th>3</th>\n",
       "      <td>Itabuna</td>\n",
       "      <td>2000</td>\n",
       "      <td>0,6311</td>\n",
       "    </tr>\n",
       "    <tr>\n",
       "      <th>5</th>\n",
       "      <td>Itabuna</td>\n",
       "      <td>2010</td>\n",
       "      <td>0,5745</td>\n",
       "    </tr>\n",
       "  </tbody>\n",
       "</table>\n",
       "</div>"
      ],
      "text/plain": [
       "  NO_MUNICIPIO   ANO    GINI\n",
       "0       Ilhéus  1991  0,6413\n",
       "2       Ilhéus  2000  0,6435\n",
       "4       Ilhéus  2010  0,5875\n",
       "1      Itabuna  1991  0,6979\n",
       "3      Itabuna  2000  0,6311\n",
       "5      Itabuna  2010  0,5745"
      ]
     },
     "execution_count": 2,
     "metadata": {},
     "output_type": "execute_result"
    }
   ],
   "source": [
    "gini_df = pd.read_csv(\"../data/ginibr.csv\", sep=\";\", encoding=\"latin1\", header=2)\n",
    "\n",
    "gini_df['Município'] = gini_df['Município'].str.split(\" \", n=1, expand=True)[1]\n",
    "gini_df.rename(columns={\"Município\": \"NO_MUNICIPIO\"}, inplace=True)\n",
    "gini_df = gini_df[gini_df['NO_MUNICIPIO'].isin(['Itabuna', 'Ilhéus'])]\n",
    "\n",
    "gini_df = gini_df.melt(id_vars=[\"NO_MUNICIPIO\"], var_name=\"ANO\", value_name=\"GINI\")\n",
    "gini_df['ANO'] = gini_df['ANO'].astype(int)\n",
    "\n",
    "gini_df.sort_values(by=[\"NO_MUNICIPIO\", \"ANO\"], inplace=True)\n",
    "\n",
    "with pd.ExcelWriter(\"../output/full_data.xlsx\", mode='a') as writer:\n",
    "    gini_df.to_excel(writer, sheet_name=\"Gini\", index=False)\n",
    "\n",
    "gini_df.head(6)"
   ]
  }
 ],
 "metadata": {
  "kernelspec": {
   "display_name": "base",
   "language": "python",
   "name": "python3"
  },
  "language_info": {
   "codemirror_mode": {
    "name": "ipython",
    "version": 3
   },
   "file_extension": ".py",
   "mimetype": "text/x-python",
   "name": "python",
   "nbconvert_exporter": "python",
   "pygments_lexer": "ipython3",
   "version": "3.12.2"
  }
 },
 "nbformat": 4,
 "nbformat_minor": 2
}
